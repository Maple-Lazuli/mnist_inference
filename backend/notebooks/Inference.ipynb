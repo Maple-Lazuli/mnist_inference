{
 "cells": [
  {
   "cell_type": "code",
   "execution_count": 3,
   "id": "8d96d154",
   "metadata": {},
   "outputs": [],
   "source": [
    "import tensorflow as tf\n",
    "import numpy as np\n",
    "from PIL import Image"
   ]
  },
  {
   "cell_type": "code",
   "execution_count": 4,
   "id": "901ce4e8",
   "metadata": {},
   "outputs": [],
   "source": [
    "im = Image.open(\"../current.png\")"
   ]
  },
  {
   "cell_type": "code",
   "execution_count": 17,
   "id": "be96ce87",
   "metadata": {},
   "outputs": [
    {
     "data": {
      "text/plain": [
       "(1, 784)"
      ]
     },
     "execution_count": 17,
     "metadata": {},
     "output_type": "execute_result"
    }
   ],
   "source": [
    "np.array(im).reshape(-1, 784).shape"
   ]
  },
  {
   "cell_type": "code",
   "execution_count": 9,
   "id": "0017d9c7",
   "metadata": {},
   "outputs": [],
   "source": [
    "tf.compat.v1.disable_eager_execution()"
   ]
  },
  {
   "cell_type": "code",
   "execution_count": 14,
   "id": "e16ff73e",
   "metadata": {},
   "outputs": [
    {
     "name": "stdout",
     "output_type": "stream",
     "text": [
      "INFO:tensorflow:Restoring parameters from ./model/mnist\n"
     ]
    }
   ],
   "source": [
    "sess = tf.compat.v1.Session()\n",
    "saver = tf.compat.v1.train.import_meta_graph(\"./model/mnist.meta\")\n",
    "saver.restore(sess, tf.compat.v1.train.latest_checkpoint(\"./model\"))\n",
    "graph = tf.compat.v1.get_default_graph()\n",
    "input_image = graph.get_tensor_by_name(\"mnist_model/X:0\")\n",
    "classifier_label = graph.get_tensor_by_name(\"mnist_model/Y_Prediction/y_pred:0\")\n",
    "softmax_classifier = tf.compat.v1.math.softmax(classifier_label)\n",
    "hold_prob = graph.get_tensor_by_name(\"mnist_model/hold_prob:0\")"
   ]
  },
  {
   "cell_type": "code",
   "execution_count": 18,
   "id": "48248830",
   "metadata": {},
   "outputs": [],
   "source": [
    "y_pred = sess.run(softmax_classifier, feed_dict={input_image: np.array(im).reshape(-1, 784), hold_prob: 1.0})"
   ]
  },
  {
   "cell_type": "code",
   "execution_count": 19,
   "id": "f152d122",
   "metadata": {},
   "outputs": [
    {
     "data": {
      "text/plain": [
       "array([[0., 0., 1., 0., 0., 0., 0., 0., 0., 0.]], dtype=float32)"
      ]
     },
     "execution_count": 19,
     "metadata": {},
     "output_type": "execute_result"
    }
   ],
   "source": [
    "y_pred"
   ]
  },
  {
   "cell_type": "code",
   "execution_count": null,
   "id": "f3c1d525",
   "metadata": {},
   "outputs": [],
   "source": []
  }
 ],
 "metadata": {
  "kernelspec": {
   "display_name": "Python 3",
   "language": "python",
   "name": "python3"
  },
  "language_info": {
   "codemirror_mode": {
    "name": "ipython",
    "version": 3
   },
   "file_extension": ".py",
   "mimetype": "text/x-python",
   "name": "python",
   "nbconvert_exporter": "python",
   "pygments_lexer": "ipython3",
   "version": "3.8.10"
  }
 },
 "nbformat": 4,
 "nbformat_minor": 5
}
